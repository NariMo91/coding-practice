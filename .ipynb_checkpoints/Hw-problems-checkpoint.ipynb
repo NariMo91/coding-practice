{
 "cells": [
  {
   "cell_type": "markdown",
   "metadata": {},
   "source": [
    "## 7/12/21"
   ]
  },
  {
   "cell_type": "markdown",
   "metadata": {},
   "source": [
    "https://leetcode.com/problems/number-of-steps-to-reduce-a-number-to-zero/"
   ]
  },
  {
   "cell_type": "code",
   "execution_count": 77,
   "metadata": {},
   "outputs": [],
   "source": [
    "def num_of_steps(num):\n",
    "    if type(num) != int:\n",
    "        num = int(num)\n",
    "    if num < 0:\n",
    "        return print('Error: cannot accept negative numbers')\n",
    "    if num > 1000000:\n",
    "        return print('Error: try values less than 1,000,000')\n",
    "    if num > 0 and num < 1000000:    \n",
    "        count = 0\n",
    "        while num > 0:         \n",
    "            if num % 2 == 0:\n",
    "                num = num // 2\n",
    "            else:\n",
    "                num = num - 1\n",
    "            count += 1\n",
    "        return print('Number of steps:', count)"
   ]
  },
  {
   "cell_type": "code",
   "execution_count": 47,
   "metadata": {},
   "outputs": [
    {
     "name": "stdout",
     "output_type": "stream",
     "text": [
      "Number of steps: 8\n"
     ]
    }
   ],
   "source": [
    "num_of_steps(50.5)"
   ]
  },
  {
   "cell_type": "markdown",
   "metadata": {},
   "source": [
    "## 7/13/21"
   ]
  },
  {
   "cell_type": "markdown",
   "metadata": {},
   "source": [
    "https://leetcode.com/problems/count-the-number-of-consistent-strings/"
   ]
  },
  {
   "cell_type": "code",
   "execution_count": 48,
   "metadata": {},
   "outputs": [],
   "source": [
    "def count_consistent_strings(allowed, words):\n",
    "    number = 0\n",
    "    for word in words:\n",
    "        if len(set(allowed).intersection(word)) == len(set(word)):\n",
    "            number += 1\n",
    "    return print('Num of consistent strings:', number)"
   ]
  },
  {
   "cell_type": "code",
   "execution_count": 49,
   "metadata": {},
   "outputs": [
    {
     "name": "stdout",
     "output_type": "stream",
     "text": [
      "Num of consistent strings: 2\n"
     ]
    }
   ],
   "source": [
    "count_consistent_strings(allowed = \"ab\", words = [\"ad\",\"bd\",\"aaab\",\"baa\",\"badab\"])"
   ]
  },
  {
   "cell_type": "code",
   "execution_count": 52,
   "metadata": {},
   "outputs": [
    {
     "name": "stdout",
     "output_type": "stream",
     "text": [
      "Num of consistent strings: 7\n"
     ]
    }
   ],
   "source": [
    "count_consistent_strings(allowed = \"abc\", words = [\"a\",\"b\",\"c\",\"ab\",\"ac\",\"bc\",\"abc\"])"
   ]
  },
  {
   "cell_type": "code",
   "execution_count": 53,
   "metadata": {},
   "outputs": [
    {
     "name": "stdout",
     "output_type": "stream",
     "text": [
      "Num of consistent strings: 4\n"
     ]
    }
   ],
   "source": [
    "count_consistent_strings(allowed = \"cad\", words = [\"cc\",\"acd\",\"b\",\"ba\",\"bac\",\"bad\",\"ac\",\"d\"])"
   ]
  },
  {
   "cell_type": "markdown",
   "metadata": {},
   "source": [
    "## 7/14/21"
   ]
  },
  {
   "cell_type": "markdown",
   "metadata": {},
   "source": [
    "https://leetcode.com/problems/determine-if-string-halves-are-alike/"
   ]
  },
  {
   "cell_type": "code",
   "execution_count": 69,
   "metadata": {},
   "outputs": [],
   "source": [
    "def halves_are_alike(s):\n",
    "    if len(s) < 2 or len(s) > 1000:\n",
    "        return print('Need 2 <= s.length <= 1000')\n",
    "    if len(s) % 2 == 1:\n",
    "        return print('String length must be even')\n",
    "    else:\n",
    "        a, b = s[:len(s)//2], s[len(s)//2:]\n",
    "        vowels = ['a', 'e', 'i', 'o', 'u']\n",
    "        count_a = len([i for i in list(a.lower()) if i in vowels])\n",
    "        count_b = len([i for i in list(b.lower()) if i in vowels])\n",
    "        return bool(count_a == count_b)       "
   ]
  },
  {
   "cell_type": "code",
   "execution_count": 73,
   "metadata": {},
   "outputs": [
    {
     "data": {
      "text/plain": [
       "True"
      ]
     },
     "execution_count": 73,
     "metadata": {},
     "output_type": "execute_result"
    }
   ],
   "source": [
    "halves_are_alike('book')"
   ]
  },
  {
   "cell_type": "code",
   "execution_count": 74,
   "metadata": {},
   "outputs": [
    {
     "data": {
      "text/plain": [
       "False"
      ]
     },
     "execution_count": 74,
     "metadata": {},
     "output_type": "execute_result"
    }
   ],
   "source": [
    "halves_are_alike('textbook')"
   ]
  },
  {
   "cell_type": "code",
   "execution_count": 75,
   "metadata": {},
   "outputs": [
    {
     "data": {
      "text/plain": [
       "False"
      ]
     },
     "execution_count": 75,
     "metadata": {},
     "output_type": "execute_result"
    }
   ],
   "source": [
    "halves_are_alike('MerryChristmas')"
   ]
  },
  {
   "cell_type": "code",
   "execution_count": 76,
   "metadata": {},
   "outputs": [
    {
     "data": {
      "text/plain": [
       "True"
      ]
     },
     "execution_count": 76,
     "metadata": {},
     "output_type": "execute_result"
    }
   ],
   "source": [
    "halves_are_alike('AbCdEfGh')"
   ]
  },
  {
   "cell_type": "markdown",
   "metadata": {},
   "source": [
    "## 7/19/21"
   ]
  },
  {
   "cell_type": "markdown",
   "metadata": {},
   "source": [
    "https://leetcode.com/problems/single-number/"
   ]
  },
  {
   "cell_type": "code",
   "execution_count": 8,
   "metadata": {},
   "outputs": [],
   "source": [
    "def single_number(nums):\n",
    "    if len(nums) < 1 or len(nums) > 3e4:\n",
    "        return print('Need 1 <= nums.length <= 3e4')\n",
    "    if any(i < -3e24 for i in nums) or any(i > 3e4 for i in nums):\n",
    "        return print('Need -3e4 <= nums[i] <= 3e4')\n",
    "    unique = list(set(nums))\n",
    "    return (sum(unique) * 2) - sum(nums)"
   ]
  },
  {
   "cell_type": "code",
   "execution_count": 9,
   "metadata": {},
   "outputs": [
    {
     "data": {
      "text/plain": [
       "1"
      ]
     },
     "execution_count": 9,
     "metadata": {},
     "output_type": "execute_result"
    }
   ],
   "source": [
    "single_number([1])"
   ]
  },
  {
   "cell_type": "code",
   "execution_count": 10,
   "metadata": {},
   "outputs": [
    {
     "data": {
      "text/plain": [
       "4"
      ]
     },
     "execution_count": 10,
     "metadata": {},
     "output_type": "execute_result"
    }
   ],
   "source": [
    "single_number([4,1,2,1,2])"
   ]
  },
  {
   "cell_type": "code",
   "execution_count": 11,
   "metadata": {},
   "outputs": [
    {
     "data": {
      "text/plain": [
       "1"
      ]
     },
     "execution_count": 11,
     "metadata": {},
     "output_type": "execute_result"
    }
   ],
   "source": [
    "single_number([2,2,1])"
   ]
  },
  {
   "cell_type": "code",
   "execution_count": 12,
   "metadata": {},
   "outputs": [
    {
     "name": "stdout",
     "output_type": "stream",
     "text": [
      "Need -3e4 <= nums[i] <= 3e4\n"
     ]
    }
   ],
   "source": [
    "single_number([-2e25])"
   ]
  },
  {
   "cell_type": "code",
   "execution_count": 13,
   "metadata": {},
   "outputs": [
    {
     "name": "stdout",
     "output_type": "stream",
     "text": [
      "Need 1 <= nums.length <= 3e4\n"
     ]
    }
   ],
   "source": [
    "single_number([])"
   ]
  },
  {
   "cell_type": "markdown",
   "metadata": {},
   "source": [
    "## 7/20/21"
   ]
  },
  {
   "cell_type": "markdown",
   "metadata": {},
   "source": [
    "https://leetcode.com/problems/reverse-string/"
   ]
  },
  {
   "cell_type": "code",
   "execution_count": 49,
   "metadata": {},
   "outputs": [],
   "source": [
    "def reverse_string(s):\n",
    "    l = len(s)\n",
    "    for i in range(l//2):\n",
    "        s[i], s[l-1-i] = s[l-1-i], s[i]"
   ]
  },
  {
   "cell_type": "code",
   "execution_count": 50,
   "metadata": {},
   "outputs": [
    {
     "data": {
      "text/plain": [
       "['o', 'l', 'l', 'e', 'h']"
      ]
     },
     "execution_count": 50,
     "metadata": {},
     "output_type": "execute_result"
    }
   ],
   "source": [
    "s = [\"h\",\"e\",\"l\",\"l\",\"o\"]\n",
    "reverse_string(s)\n",
    "s"
   ]
  },
  {
   "cell_type": "markdown",
   "metadata": {},
   "source": [
    "## 7/21/21\n",
    "\n",
    "https://leetcode.com/problems/longest-common-prefix/"
   ]
  },
  {
   "cell_type": "code",
   "execution_count": 17,
   "metadata": {},
   "outputs": [],
   "source": [
    "def longest_common_prefix(strs):\n",
    "    longest_pre = ''\n",
    "    char_tuples = zip(*strs)\n",
    "    for element in char_tuples:\n",
    "        if len(set(element)) == 1:\n",
    "            longest_pre += element[0]\n",
    "    return longest_pre"
   ]
  },
  {
   "cell_type": "code",
   "execution_count": 19,
   "metadata": {},
   "outputs": [],
   "source": [
    "str = [\"flower\",\"flow\",\"flight\"]\n",
    "a = zip(*str)"
   ]
  },
  {
   "cell_type": "code",
   "execution_count": 20,
   "metadata": {},
   "outputs": [
    {
     "name": "stdout",
     "output_type": "stream",
     "text": [
      "(('f', 'f', 'f'), ('l', 'l', 'l'), ('o', 'o', 'i'), ('w', 'w', 'g'))\n"
     ]
    }
   ],
   "source": [
    "print(tuple(a))"
   ]
  },
  {
   "cell_type": "code",
   "execution_count": 18,
   "metadata": {},
   "outputs": [
    {
     "data": {
      "text/plain": [
       "'fl'"
      ]
     },
     "execution_count": 18,
     "metadata": {},
     "output_type": "execute_result"
    }
   ],
   "source": [
    "longest_common_prefix([\"flower\",\"flow\",\"flight\"])"
   ]
  },
  {
   "cell_type": "markdown",
   "metadata": {},
   "source": [
    "## 7/22/21\n",
    "\n",
    "https://leetcode.com/problems/two-sum/"
   ]
  },
  {
   "cell_type": "code",
   "execution_count": null,
   "metadata": {},
   "outputs": [],
   "source": [
    "def two_sum(nums, target):\n",
    "     values = {}\n",
    "    for idx, num in enumerate(nums):\n",
    "        diff = target - num\n",
    "        if diff in values:\n",
    "            "
   ]
  }
 ],
 "metadata": {
  "kernelspec": {
   "display_name": "learn-env",
   "language": "python",
   "name": "learn-env"
  },
  "language_info": {
   "codemirror_mode": {
    "name": "ipython",
    "version": 3
   },
   "file_extension": ".py",
   "mimetype": "text/x-python",
   "name": "python",
   "nbconvert_exporter": "python",
   "pygments_lexer": "ipython3",
   "version": "3.8.5"
  }
 },
 "nbformat": 4,
 "nbformat_minor": 4
}
