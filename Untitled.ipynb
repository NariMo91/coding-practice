{
 "cells": [
  {
   "cell_type": "markdown",
   "metadata": {},
   "source": [
    "# SQL"
   ]
  },
  {
   "cell_type": "markdown",
   "metadata": {},
   "source": [
    "Designed to work with **Relational data**: pieces of data related to one another. Lots of real world data are inherently related.\n",
    "\n",
    "**primary key**: unique identifier for table\n",
    "**foreign key**: key from a foreign table"
   ]
  },
  {
   "cell_type": "code",
   "execution_count": null,
   "metadata": {},
   "outputs": [],
   "source": [
    "import sqlite3\n",
    "conn = sqlite3.connect('table.sqlite')\n",
    "\n",
    "cur = conn.cursor()\n",
    "\n",
    "query = '''\n",
    "SELECT *\n",
    "FROM employees\n",
    "LIMIT 5\n",
    "'''\n",
    "\n",
    "cur.execute(query).fetchall()\n",
    "\n",
    "# wrapping results into pd dataframes\n",
    "\n",
    "import pandas as pd\n",
    "\n",
    "df = pd.DataFrame(cur.execute(query).fetchall())\n",
    "\n",
    "#access column names with cur.description\n",
    "\n",
    "df.columns = [x[0] for x in cur.description]"
   ]
  },
  {
   "cell_type": "code",
   "execution_count": null,
   "metadata": {},
   "outputs": [],
   "source": [
    "# pandas method to directly read from SQL databases. All you need is conn, no cursor\n",
    "\n",
    "pd.read_sql(query, conn)"
   ]
  },
  {
   "cell_type": "code",
   "execution_count": null,
   "metadata": {},
   "outputs": [],
   "source": [
    "# complex query\n",
    "complex_query = \"\"\"\n",
    "SELECT customerNumber, customerName, city, creditLimit\n",
    "FROM customers\n",
    "WHERE (city = 'Boston' OR city = 'Madrid') AND (creditLimit >= 50000.00)\n",
    "ORDER BY creditLimit DESC\n",
    "LIMIT 15\n",
    ";\"\"\"\n",
    "df = pd.read_sql(complex_query, conn)\n",
    "df"
   ]
  },
  {
   "cell_type": "code",
   "execution_count": null,
   "metadata": {},
   "outputs": [],
   "source": [
    "# understand table schema with PRAGMA table_info\n",
    "pd.read_sql('''PRAGMA table_info(customers)''', conn)"
   ]
  },
  {
   "cell_type": "code",
   "execution_count": null,
   "metadata": {},
   "outputs": [],
   "source": [
    "q = \"\"\"\n",
    "SELECT\n",
    "    customerNumber,\n",
    "    COUNT(*) AS number_payments,\n",
    "    MIN(amount) AS min_purchase,\n",
    "    MAX(amount) AS max_purchase,\n",
    "    AVG(amount) AS avg_purchase,\n",
    "    SUM(amount) AS total_spent\n",
    "FROM payments\n",
    "WHERE strftime('%Y', paymentDate) = '2004'\n",
    "GROUP BY customerNumber\n",
    ";\n",
    "\"\"\"\n",
    "pd.read_sql(q, conn)\n",
    "\n",
    "q = \"\"\"\n",
    "SELECT\n",
    "    customerNumber,\n",
    "    COUNT(*) AS number_payments,\n",
    "    MIN(amount) AS min_purchase,\n",
    "    MAX(amount) AS max_purchase,\n",
    "    AVG(amount) AS avg_purchase,\n",
    "    SUM(amount) AS total_spent\n",
    "FROM payments\n",
    "GROUP BY customerNumber\n",
    "HAVING avg_purchase > 50000\n",
    ";\n",
    "\"\"\"\n",
    "pd.read_sql(q, conn)"
   ]
  },
  {
   "cell_type": "code",
   "execution_count": null,
   "metadata": {},
   "outputs": [],
   "source": [
    "# JOIN\n",
    "q = \"\"\"\n",
    "SELECT *\n",
    "FROM orderdetails\n",
    "JOIN products\n",
    "    ON orderdetails.productCode = products.productCode\n",
    "LIMIT 10\n",
    ";\n",
    "\"\"\"\n",
    "pd.read_sql(q, conn)\n",
    "\n",
    "# with aliasing\n",
    "q = \"\"\"\n",
    "SELECT *\n",
    "FROM orderdetails AS od\n",
    "JOIN products AS p\n",
    "    ON od.productCode = p.productCode\n",
    "LIMIT 10;\n",
    "\"\"\"\n",
    "pd.read_sql(q, conn)\n",
    "\n",
    "# USING: if keys are identical\n",
    "q = \"\"\"\n",
    "SELECT *\n",
    "FROM orderdetails\n",
    "JOIN products\n",
    "    USING(productCode)\n",
    "LIMIT 10\n",
    ";\n",
    "\"\"\"\n",
    "pd.read_sql(q, conn)"
   ]
  },
  {
   "cell_type": "markdown",
   "metadata": {},
   "source": [
    "SELECT:\n",
    "- `SELECT name FROM cats` same as `SELECT cats.name FROM cats`\n",
    "WHERE: filter SELECT query results by some condition. Before grouping is applied\n",
    "GROUP BY: typically use with aggregate. group records into summary rows and returns one record for each group\n",
    "HAVING: provides condition on which to filter after grouping is applied\n",
    "ORDER BY: sort results of SELECT by particular feature (default ASC)\n",
    "DISTINCT: returns distinct values\n",
    "UNION: combines results from multiple SELECT statements\n",
    "LIMIT: limit output to set number of results"
   ]
  }
 ],
 "metadata": {
  "kernelspec": {
   "display_name": "learn-env",
   "language": "python",
   "name": "learn-env"
  },
  "language_info": {
   "codemirror_mode": {
    "name": "ipython",
    "version": 3
   },
   "file_extension": ".py",
   "mimetype": "text/x-python",
   "name": "python",
   "nbconvert_exporter": "python",
   "pygments_lexer": "ipython3",
   "version": "3.8.5"
  }
 },
 "nbformat": 4,
 "nbformat_minor": 4
}
